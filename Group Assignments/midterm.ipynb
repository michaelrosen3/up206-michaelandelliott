{
 "cells": [
  {
   "cell_type": "markdown",
   "id": "9ca1ecd0-7fdb-4cd3-87e3-7bf0934ed6b1",
   "metadata": {},
   "source": [
    "# Seeing The Forest: Tree Equity in Oakland, California\n",
    "## Elliott Shaw's and Michael Rosen's 206A midterm"
   ]
  },
  {
   "cell_type": "markdown",
   "id": "7de9f142-afe6-438c-b06a-a413d29a712a",
   "metadata": {},
   "source": [
    "### Context"
   ]
  },
  {
   "cell_type": "code",
   "execution_count": null,
   "id": "48656eee-10e7-4553-9b56-4d9b870dd527",
   "metadata": {},
   "outputs": [],
   "source": []
  }
 ],
 "metadata": {
  "kernelspec": {
   "display_name": "Python 3 (ipykernel)",
   "language": "python",
   "name": "python3"
  },
  "language_info": {
   "codemirror_mode": {
    "name": "ipython",
    "version": 3
   },
   "file_extension": ".py",
   "mimetype": "text/x-python",
   "name": "python",
   "nbconvert_exporter": "python",
   "pygments_lexer": "ipython3",
   "version": "3.9.6"
  }
 },
 "nbformat": 4,
 "nbformat_minor": 5
}

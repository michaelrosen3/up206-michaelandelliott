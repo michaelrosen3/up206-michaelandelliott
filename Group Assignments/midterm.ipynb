{
 "cells": [
  {
   "cell_type": "markdown",
   "id": "9ca1ecd0-7fdb-4cd3-87e3-7bf0934ed6b1",
   "metadata": {},
   "source": [
    "# Seeing The Forest: Tree Equity in Oakland, California\n",
    "## Elliott Shaw's and Michael Rosen's 206A midterm"
   ]
  },
  {
   "cell_type": "markdown",
   "id": "7de9f142-afe6-438c-b06a-a413d29a712a",
   "metadata": {},
   "source": [
    "### What is tree equity, and why does it matter?"
   ]
  },
  {
   "cell_type": "markdown",
   "id": "ec73333e-d78a-4550-840f-ea3344577df0",
   "metadata": {},
   "source": [
    "For our 206A midterm, we will be analyzing the distribution of street trees in Oakland, California. But before we get into all of that, we'd like to start by explaining the stakes of our investigation.\n",
    "\n",
    "First, and most importantly, trees are our best weapon against urban heat islands. As the planet warms and days with extreme heat become more frequent, \n",
    "\n",
    "Trees provide countless benefits to their surroundings, including:\n",
    "\n",
    " - Improved air quality\n",
    " - Noise absorption\n",
    " - Contributions to a more vibrant ecosystem"
   ]
  },
  {
   "cell_type": "code",
   "execution_count": null,
   "id": "d157d61a-c337-46ca-afcb-5c3cd5412126",
   "metadata": {},
   "outputs": [],
   "source": []
  }
 ],
 "metadata": {
  "kernelspec": {
   "display_name": "Python 3 (ipykernel)",
   "language": "python",
   "name": "python3"
  },
  "language_info": {
   "codemirror_mode": {
    "name": "ipython",
    "version": 3
   },
   "file_extension": ".py",
   "mimetype": "text/x-python",
   "name": "python",
   "nbconvert_exporter": "python",
   "pygments_lexer": "ipython3",
   "version": "3.9.6"
  }
 },
 "nbformat": 4,
 "nbformat_minor": 5
}

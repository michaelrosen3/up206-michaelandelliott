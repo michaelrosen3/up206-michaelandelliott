{
 "cells": [
  {
   "cell_type": "markdown",
   "id": "99b014a9-5ea5-48b4-9008-1376d90ab588",
   "metadata": {
    "tags": []
   },
   "source": [
    "# Seeing The Forest, Not The Trees: Tree Equity in Oakland, California\n",
    "Link to proposal: https://github.com/michaelrosen3/up206-michaelandelliott/blob/main/Group%20Assignments/Project_Proposal.md\n",
    "\n",
    "## Roles:\n",
    "\n",
    "For our project, we intend to split our responsibilities by subject matter, meaning that both of us will be coding and making maps.\n",
    "\n",
    "Michael will take on data related to socioeconomic variables: using ACS data to produce maps related to racial demographics, income, and education. \n",
    "\n",
    "Elliott will handle data related to the environment: species types, shade coverage, and other environmental variables.\n",
    "\n",
    "## Status update:\n",
    "\n",
    "The mood is upbeat but slightly concerned. So far, we’ve had fun exploring our various datasets and feel generally happy with our research question. The tree dataset contains a lot of interesting information and provides many avenues for analysis. However, we aren’t sure if the scope of our analysis is broad enough. To that end, we’ve attempted to enhance our potential deliverables past the point of simply looking at census data and tree distribution and actually started to dive into the environmental effects of specific species types.\n",
    "\n",
    "## Data update:\n",
    "\n",
    "At present, we plan to stick with our initial datasets for our analysis with plans to explore one or two additional datasets. From the ACS, we will be using block group data for the following variables:\n",
    "\n",
    "Table B19001 for household Income\n",
    "Table B03002 for race\n",
    "Table B15003 for educational attainment\n",
    "\n",
    "The tree dataset comes courtesy of the city of Oakland.\n",
    "\n",
    "## Concerns:\n",
    "\n",
    "As mentioned above, our primary concern at the moment is that the proposed deliverables are too narrowly defined. We want to be able to produce something more sophisticated than side-by-side maps with census block tree density overlaid with income and race data. At present, however, we are still batting around various approaches to incorporating an environmental dimension to our broader analysis. Invasive species and species that retain foliage through winter months are options we have considered but have run into roadblocks with the California climate affecting certain deciduous varieties along with the sheer number of trees in the dataset forcing us into a large amount of research on each species. Perhaps selecting two or more census tracts and performing an analysis on species within those smaller areas will help us narrow in and now overload ourselves with work.\n",
    "\n",
    "\n",
    "\n",
    "\n"
   ]
  },
  {
   "cell_type": "code",
   "execution_count": null,
   "id": "3576bb14-a557-412f-a138-6e0a87735ee5",
   "metadata": {},
   "outputs": [],
   "source": []
  },
  {
   "cell_type": "code",
   "execution_count": null,
   "id": "ed6eca30-3fd2-417f-a4e4-1dec20a7b799",
   "metadata": {},
   "outputs": [],
   "source": []
  },
  {
   "cell_type": "code",
   "execution_count": null,
   "id": "001d9c37-e5cc-4647-9f26-b8d94f2995aa",
   "metadata": {},
   "outputs": [],
   "source": []
  }
 ],
 "metadata": {
  "kernelspec": {
   "display_name": "Python 3 (ipykernel)",
   "language": "python",
   "name": "python3"
  },
  "language_info": {
   "codemirror_mode": {
    "name": "ipython",
    "version": 3
   },
   "file_extension": ".py",
   "mimetype": "text/x-python",
   "name": "python",
   "nbconvert_exporter": "python",
   "pygments_lexer": "ipython3",
   "version": "3.9.6"
  }
 },
 "nbformat": 4,
 "nbformat_minor": 5
}
